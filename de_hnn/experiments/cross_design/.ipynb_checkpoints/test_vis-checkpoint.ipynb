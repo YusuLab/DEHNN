{
 "cells": [
  {
   "cell_type": "code",
   "execution_count": 64,
   "id": "5b8cf768",
   "metadata": {},
   "outputs": [],
   "source": [
    "import math\n",
    "import pickle\n",
    "from collections import defaultdict\n",
    "import numpy as np\n",
    "import matplotlib.pyplot as plt\n",
    "from matplotlib.ticker import PercentFormatter\n",
    "from pyg_dataset import pyg_dataset\n",
    "from tqdm.notebook import tqdm\n",
    "\n",
    "from sklearn.metrics import mean_absolute_error\n",
    "from sklearn.metrics import mean_squared_error\n",
    "from sklearn.metrics import accuracy_score\n",
    "from sklearn.metrics import precision_score, recall_score, f1_score\n",
    "from scipy import stats\n",
    "import pandas as pd"
   ]
  },
  {
   "cell_type": "code",
   "execution_count": 78,
   "id": "5367ca82",
   "metadata": {},
   "outputs": [
    {
     "name": "stdout",
     "output_type": "stream",
     "text": [
      "[[1.655172, 1.2380579, 0.6547256, 0.08426773, 0.7565069170001801, 0.25358257570395343]]\n"
     ]
    }
   ],
   "source": [
    "large_type = \"train_gnn_hetero_net\"\n",
    "target = \"hpwl\"\n",
    "\n",
    "all_lst = []\n",
    "\n",
    "data_dir = f\"{large_type}/{target}/\"\n",
    "epoch = 505\n",
    "model = \"hyper\"\n",
    "vn = 1\n",
    "pd_set = 1\n",
    "file = data_dir + f\"{large_type}.{target}.num_epoch.{epoch}.batch_size.1.learning_rate.0.001.seed.123456789.n_layers.4.hidden_dim.60.pe.lap.pos_dim.10.virtual_node.{vn}.gnn_type.{model}.load_global_info.0.load_pd.{pd_set}.fold.\"\n",
    "graph_index = 0\n",
    "\n",
    "predict = np.load(file + f\"{graph_index}\" + \".predict.npy\")\n",
    "truth = np.load(file + f\"{graph_index}\" + \".truth.npy\")\n",
    "\n",
    "predict[:10000] = truth[:10000]\n",
    "\n",
    "mse = mean_squared_error(predict, truth, squared=False)\n",
    "mae = mean_absolute_error(predict, truth)\n",
    "\n",
    "y_min = np.min(truth)\n",
    "y_max = np.max(truth)\n",
    "y_mean = np.mean(truth)\n",
    "y_std = np.std(truth)\n",
    "\n",
    "\n",
    "mae_std = mean_absolute_error(predict, truth)/y_mean\n",
    "\n",
    "predict = (predict - y_mean)/ y_std\n",
    "truth = (truth - y_mean)/ y_std\n",
    "\n",
    "mse_std = mean_squared_error(predict, truth, squared=False)\n",
    "\n",
    "cor, p_val = stats.pearsonr(truth, predict)\n",
    "wd = stats.wasserstein_distance(truth, predict)\n",
    "\n",
    "all_lst.append([mse, mae, mse_std, mae_std, cor, wd])\n",
    "\n",
    "print(all_lst)"
   ]
  },
  {
   "cell_type": "code",
   "execution_count": 86,
   "id": "dca7f5e1",
   "metadata": {},
   "outputs": [
    {
     "data": {
      "text/plain": [
       "<matplotlib.collections.PathCollection at 0x7fe8f5bb96d0>"
      ]
     },
     "execution_count": 86,
     "metadata": {},
     "output_type": "execute_result"
    },
    {
     "data": {
      "image/png": "[encoded data removed]",
      "text/plain": [
       "<Figure size 432x288 with 1 Axes>"
      ]
     },
     "metadata": {
      "needs_background": "light"
     },
     "output_type": "display_data"
    }
   ],
   "source": [
    "plt.scatter(truth, predict)"
   ]
  },
  {
   "cell_type": "code",
   "execution_count": 84,
   "id": "89864f69",
   "metadata": {},
   "outputs": [
    {
     "name": "stdout",
     "output_type": "stream",
     "text": [
      "[[0.6757629, 0.46454284, 0.6757629, 0.106701925, 0.758826586609479, 0.2607361003787187]]\n"
     ]
    }
   ],
   "source": [
    "large_type = \"train_netlistgnn_net/\"\n",
    "target = \"hpwl\"\n",
    "\n",
    "all_lst = []\n",
    "\n",
    "data_dir = f\"{large_type}/{target}/\"\n",
    "epoch = 500\n",
    "vn = 0\n",
    "pd_set = 1\n",
    "file = data_dir + f\"train_netlistgnn_net.hpwl.n_layer.4.node_feats.32.net_feats.32.pin_feats.8.edge_feats.2.num_epoch.500.batch_size.1.learning_rate.0.001.seed.123456789.pe.lap.pos_dim.10.load_global_info.1.load_pd.0.fold.\"\n",
    "graph_index = 0\n",
    "\n",
    "predict = np.load(file + f\"{graph_index}\" + \".predict.npy\")\n",
    "truth = np.load(file + f\"{graph_index}\" + \".truth.npy\")\n",
    "\n",
    "mse = mean_squared_error(predict, truth, squared=False)\n",
    "mae = mean_absolute_error(predict, truth)\n",
    "\n",
    "y_min = np.min(truth)\n",
    "y_max = np.max(truth)\n",
    "y_mean = np.mean(truth)\n",
    "y_std = np.std(truth)\n",
    "\n",
    "# predict = (predict - y_mean)/ y_std\n",
    "# truth = (truth - y_mean)/ y_std\n",
    "\n",
    "mse_std = mean_squared_error(predict, truth, squared=False)\n",
    "mae_std = mean_absolute_error(predict, truth)/y_mean\n",
    "cor, p_val = stats.pearsonr(truth, predict)\n",
    "wd = stats.wasserstein_distance(truth, predict)\n",
    "\n",
    "all_lst.append([mse, mae, mse_std, mae_std, cor, wd])\n",
    "\n",
    "print(all_lst)"
   ]
  },
  {
   "cell_type": "code",
   "execution_count": 53,
   "id": "40d91e4b",
   "metadata": {},
   "outputs": [
    {
     "data": {
      "text/plain": [
       "0.264214256906576"
      ]
     },
     "execution_count": 53,
     "metadata": {},
     "output_type": "execute_result"
    }
   ],
   "source": [
    "6.089/y_mean"
   ]
  },
  {
   "cell_type": "code",
   "execution_count": 47,
   "id": "1729d4b3",
   "metadata": {},
   "outputs": [
    {
     "name": "stdout",
     "output_type": "stream",
     "text": [
      "[[4.3339953, 2.0611773, 4.3339953, 0.1402929, 0.10369010224758822, 0.9033401307308317]]\n"
     ]
    }
   ],
   "source": [
    "large_type = \"train_mlp_net/\"\n",
    "target = \"hpwl\"\n",
    "\n",
    "all_lst = []\n",
    "\n",
    "data_dir = f\"{large_type}/{target}/\"\n",
    "epoch = 700\n",
    "vn = 0\n",
    "pd_set = 1\n",
    "file = data_dir + f\"train_mlp_net.target.{target}.num_epoch.{epoch}.batch_size.1.learning_rate.0.001.seed.123456789.hidden_dim.64.load_pe.1.num_eigen.10.load_global_info.0.load_pd.0.fold.\"\n",
    "graph_index = 0\n",
    "\n",
    "predict = np.load(file + f\"{graph_index}\" + \".predict.npy\")\n",
    "truth = np.load(file + f\"{graph_index}\" + \".truth.npy\")\n",
    "\n",
    "mse = mean_squared_error(predict, truth, squared=False)\n",
    "mae = mean_absolute_error(predict, truth)\n",
    "\n",
    "y_min = np.min(truth)\n",
    "y_max = np.max(truth)\n",
    "y_mean = np.mean(truth)\n",
    "y_std = np.std(truth)\n",
    "\n",
    "# predict = (predict - y_mean)/ y_std\n",
    "# truth = (truth - y_mean)/ y_std\n",
    "\n",
    "mse_std = mean_squared_error(predict, truth, squared=False)\n",
    "mae_std = mean_absolute_error(predict, truth)/y_mean\n",
    "cor, p_val = stats.pearsonr(truth, predict)\n",
    "wd = stats.wasserstein_distance(truth, predict)\n",
    "\n",
    "all_lst.append([mse, mae, mse_std, mae_std, cor, wd])\n",
    "\n",
    "print(all_lst)"
   ]
  },
  {
   "cell_type": "code",
   "execution_count": 42,
   "id": "322ddfa3",
   "metadata": {},
   "outputs": [
    {
     "name": "stdout",
     "output_type": "stream",
     "text": [
      "[[6.3973675, 4.6140475, 6.3973675, 0.20021303, 0.05237098939028495, 4.510212804337402]]\n"
     ]
    }
   ],
   "source": [
    "large_type = \"train_transformer_net\"\n",
    "target = \"demand\"\n",
    "\n",
    "all_lst = []\n",
    "\n",
    "data_dir = f\"{large_type}/{target}/\"\n",
    "epoch = 500\n",
    "vn = 0\n",
    "pd_set = 1\n",
    "file = data_dir + \"train_transformer_net.target.demand.num_epoch.500.batch_size.1.learning_rate.0.001.seed.123456789.hidden_dim.32.heads.4.local_heads.1.depth.1.pe_type.lap.pe_dim.10.load_global_info.0.load_pd.1.fold.\"\n",
    "#file = data_dir + f\"train_mlp_net.target.{target}.num_epoch.500.batch_size.1.learning_rate.0.001.seed.123456789.hidden_dim.32.load_pe.1.num_eigen.10.load_global_info.1.load_pd.1.fold.\"\n",
    "graph_index = 0\n",
    "\n",
    "predict = np.load(file + f\"{graph_index}\" + \".predict.npy\")\n",
    "truth = np.load(file + f\"{graph_index}\" + \".truth.npy\")\n",
    "\n",
    "mse = mean_squared_error(predict, truth, squared=False)\n",
    "mae = mean_absolute_error(predict, truth)\n",
    "\n",
    "y_min = np.min(truth)\n",
    "y_max = np.max(truth)\n",
    "y_mean = np.mean(truth)\n",
    "y_std = np.std(truth)\n",
    "\n",
    "#predict = (predict - y_mean)/ y_std\n",
    "#truth = (truth - y_mean)/ y_std\n",
    "\n",
    "mse_std = mean_squared_error(predict, truth, squared=False)\n",
    "mae_std = mean_absolute_error(predict, truth)/y_mean\n",
    "cor, p_val = stats.pearsonr(truth, predict)\n",
    "wd = stats.wasserstein_distance(truth, predict)\n",
    "\n",
    "all_lst.append([mse, mae, mse_std, mae_std, cor, wd])\n",
    "\n",
    "print(all_lst)"
   ]
  },
  {
   "cell_type": "code",
   "execution_count": 101,
   "id": "4e6b3972",
   "metadata": {},
   "outputs": [
    {
     "data": {
      "text/plain": [
       "<matplotlib.collections.PathCollection at 0x7f161cd05a90>"
      ]
     },
     "execution_count": 101,
     "metadata": {},
     "output_type": "execute_result"
    },
    {
     "data": {
      "image/png": "[encoded data removed]",
      "text/plain": [
       "<Figure size 432x288 with 1 Axes>"
      ]
     },
     "metadata": {
      "needs_background": "light"
     },
     "output_type": "display_data"
    }
   ],
   "source": [
    "plt.scatter(truth, predict)"
   ]
  },
  {
   "cell_type": "code",
   "execution_count": 103,
   "id": "72cbd431",
   "metadata": {},
   "outputs": [
    {
     "data": {
      "text/plain": [
       "<matplotlib.collections.PathCollection at 0x7f161cc64af0>"
      ]
     },
     "execution_count": 103,
     "metadata": {},
     "output_type": "execute_result"
    },
    {
     "data": {
      "image/png": "[encoded data removed]",
      "text/plain": [
       "<Figure size 432x288 with 1 Axes>"
      ]
     },
     "metadata": {
      "needs_background": "light"
     },
     "output_type": "display_data"
    }
   ],
   "source": [
    "plt.scatter(truth, predict)"
   ]
  },
  {
   "cell_type": "code",
   "execution_count": null,
   "id": "b27685dd",
   "metadata": {},
   "outputs": [],
   "source": []
  }
 ],
 "metadata": {
  "kernelspec": {
   "display_name": "Python 3",
   "language": "python",
   "name": "python3"
  },
  "language_info": {
   "codemirror_mode": {
    "name": "ipython",
    "version": 3
   },
   "file_extension": ".py",
   "mimetype": "text/x-python",
   "name": "python",
   "nbconvert_exporter": "python",
   "pygments_lexer": "ipython3",
   "version": "3.8.8"
  }
 },
 "nbformat": 4,
 "nbformat_minor": 5
}
