{
 "cells": [
  {
   "cell_type": "code",
   "execution_count": 66,
   "id": "3442073e",
   "metadata": {},
   "outputs": [],
   "source": [
    "import torch\n",
    "import torch.nn as nn\n",
    "import torch.nn.functional as F\n",
    "from torch.optim import Adam, Adagrad\n",
    "from torch import optim\n",
    "\n",
    "import numpy as np\n",
    "import os\n",
    "import time\n",
    "import argparse\n",
    "import scipy\n",
    "import pickle\n",
    "\n",
    "# Our data loader\n",
    "from torch_geometric.loader import DataLoader\n",
    "from pyg_dataset_net import pyg_dataset\n",
    "\n",
    "# NetlistGNN data loader\n",
    "from load_netlistgnn_data import load_data\n",
    "\n",
    "# Deep Graph Library (DGL)\n",
    "import dgl\n",
    "import dgl.function as function\n",
    "from dgl import add_self_loop, metis_partition\n",
    "from typing import Tuple, List, Dict"
   ]
  },
  {
   "cell_type": "code",
   "execution_count": 60,
   "id": "25c773f8",
   "metadata": {},
   "outputs": [
    {
     "name": "stdout",
     "output_type": "stream",
     "text": [
      "The autoreload extension is already loaded. To reload it, use:\n",
      "  %reload_ext autoreload\n"
     ]
    }
   ],
   "source": [
    "%load_ext autoreload\n",
    "\n",
    "%autoreload 2"
   ]
  },
  {
   "cell_type": "code",
   "execution_count": 24,
   "id": "acb700ff",
   "metadata": {},
   "outputs": [],
   "source": [
    "data_dir = '../../data/2023-03-06_data/'"
   ]
  },
  {
   "cell_type": "code",
   "execution_count": 48,
   "id": "e9adf927",
   "metadata": {
    "scrolled": true
   },
   "outputs": [
    {
     "name": "stdout",
     "output_type": "stream",
     "text": [
      "Learning target: demand\n",
      "Data(x=[797938, 16], x_net=[821523, 7], num_instances=797938, y=[821523, 1], edge_index_node_net=[2, 2950019], edge_index_net_node=[2, 2950019], edge_index_node_node=[2, 5998176], edge_attr=[2, 1], evects=[1619461, 10], evals=[10], cell_degrees=[797938], net_degrees=[821523]) 1\n"
     ]
    }
   ],
   "source": [
    "for graph_index in range(1, 50):\n",
    "\n",
    "    dataset = pyg_dataset(data_dir, graph_index = graph_index, target = 'demand', load_pe = True, num_eigen = 10, load_global_info = False, load_pd = False, vn=False, net=True)\n",
    "    data = dataset[0]\n",
    "    break"
   ]
  },
  {
   "cell_type": "code",
   "execution_count": 49,
   "id": "598b03a4",
   "metadata": {},
   "outputs": [],
   "source": [
    "fn = data_dir + '/' + str(graph_index) + '.node_features.pkl'\n",
    "f = open(fn, \"rb\")\n",
    "dictionary = pickle.load(f)\n",
    "f.close()"
   ]
  },
  {
   "cell_type": "code",
   "execution_count": 70,
   "id": "a5124a41",
   "metadata": {},
   "outputs": [],
   "source": [
    "def fo_average(g):\n",
    "    degrees = g.out_degrees(g.nodes()).type(torch.float32)\n",
    "    g.ndata['addnlfeat'] = (g.ndata['feat']) / degrees.view(-1, 1)\n",
    "    g.ndata['inter'] = torch.zeros_like(g.ndata['feat'])\n",
    "    g.ndata['wts'] = torch.ones(g.number_of_nodes()) / degrees\n",
    "    g.ndata['wtmsg'] = torch.zeros_like(g.ndata['wts'])\n",
    "    g.update_all(message_func=function.copy_u('addnlfeat', 'inter'),\n",
    "                 reduce_func=function.sum(msg='inter', out='addnlfeat'))\n",
    "    g.update_all(message_func=function.copy_u('wts', 'wtmsg'),\n",
    "                 reduce_func=function.sum(msg='wtmsg', out='wts'))\n",
    "    hop1 = g.ndata['addnlfeat'] / (g.ndata['wts'].view(-1, 1))\n",
    "    return hop1\n"
   ]
  },
  {
   "cell_type": "code",
   "execution_count": 51,
   "id": "7a56f6e4",
   "metadata": {},
   "outputs": [],
   "source": [
    "pyg_data = data"
   ]
  },
  {
   "cell_type": "code",
   "execution_count": 57,
   "id": "997aa45c",
   "metadata": {},
   "outputs": [],
   "source": [
    "num_instances = pyg_data.x.size(0)\n",
    "\n",
    "# Number of nets\n",
    "num_nets = pyg_data.x_net.size(0)\n",
    "\n",
    "assert pyg_data.y.size(0) == num_nets\n",
    "assert pyg_data.evects.size(0) == num_instances + num_nets\n",
    "\n",
    "# Instance indices\n",
    "instance_idx = pyg_data.edge_index_node_net[0, :]\n",
    "\n",
    "# Net indices\n",
    "net_idx = pyg_data.edge_index_node_net[1, :]\n",
    "\n",
    "# Make net indices to be starting from 0 again\n",
    "net_idx = net_idx - num_instances\n",
    "\n",
    "# Number of edges\n",
    "num_edges = net_idx.numel()\n",
    "\n",
    "# Checking the quality\n",
    "assert(torch.min(instance_idx).item() == 0)\n",
    "assert(torch.max(instance_idx).item() == num_instances - 1)\n",
    "assert(torch.min(net_idx).item() == 0)\n",
    "assert(torch.max(net_idx).item() == num_nets - 1)\n",
    "\n",
    "# Compute the near relationship\n",
    "near_idx_1 = pyg_data.edge_index_node_node[0, :]\n",
    "near_idx_2 = pyg_data.edge_index_node_node[1, :]\n",
    "near_features = torch.zeros(near_idx_1.size(0), 1)\n",
    "\n",
    "# Compute the net's degree\n",
    "net_degree = torch.tensor(pyg_data.net_degrees).unsqueeze(dim=1)\n",
    "\n",
    "cell_degree = torch.tensor(pyg_data.cell_degrees).unsqueeze(dim=1)\n",
    "\n",
    "n_node = num_instances\n",
    "node_hv = torch.cat([pyg_data.x[:, 3:5], cell_degree], dim=1)\n",
    "\n",
    "homo_graph = add_self_loop(dgl.graph((near_idx_1, near_idx_2), num_nodes=n_node))\n",
    "homo_graph.ndata['feat'] = node_hv[:n_node, :]"
   ]
  },
  {
   "cell_type": "code",
   "execution_count": 71,
   "id": "b230e741",
   "metadata": {
    "scrolled": false
   },
   "outputs": [],
   "source": [
    "extra = fo_average(homo_graph)"
   ]
  },
  {
   "cell_type": "code",
   "execution_count": 73,
   "id": "cdc6398e",
   "metadata": {},
   "outputs": [],
   "source": [
    "net_label = torch.zeros(num_nets)\n",
    "\n",
    "# Deep Graph Library\n",
    "dgl_data = dgl.heterograph(\n",
    "    {\n",
    "        ('node', 'near', 'node'): (near_idx_1, near_idx_2),\n",
    "        ('node', 'pins', 'net'): (instance_idx, net_idx),\n",
    "        ('net', 'pinned', 'node'): (net_idx, instance_idx),\n",
    "    }, \n",
    "    num_nodes_dict = {\n",
    "        'node': num_instances, \n",
    "        'net': num_nets\n",
    "    }\n",
    ")\n",
    "\n",
    "\n",
    "net_hv = torch.cat([net_degree, pyg_data.x_net], dim=1)\n",
    "\n",
    "# Node & Edge features\n",
    "dgl_data.nodes['node'].data['hv'] = torch.cat([homo_graph.ndata['feat'], extra], dim=1)\n",
    "dgl_data.nodes['node'].data['pos_code'] = pyg_data.evects[ : num_instances, :]\n",
    "dgl_data.nodes['net'].data['hv'] = net_hv\n",
    "dgl_data.nodes['net'].data['degree'] = net_degree\n",
    "dgl_data.nodes['net'].data['label'] = net_label\n",
    "dgl_data.edges['pins'].data['he'] = torch.ones(net_idx.size(0), 1)\n",
    "dgl_data.edges['pinned'].data['he'] = torch.ones(net_idx.size(0), 1)\n",
    "dgl_data.edges['near'].data['he'] = near_features"
   ]
  },
  {
   "cell_type": "code",
   "execution_count": 77,
   "id": "8896dea6",
   "metadata": {
    "scrolled": true
   },
   "outputs": [
    {
     "data": {
      "text/plain": [
       "torch.Size([797938, 6])"
      ]
     },
     "execution_count": 77,
     "metadata": {},
     "output_type": "execute_result"
    }
   ],
   "source": [
    "dgl_data.nodes['node'].data['hv'].shape"
   ]
  }
 ],
 "metadata": {
  "kernelspec": {
   "display_name": "Python 3",
   "language": "python",
   "name": "python3"
  },
  "language_info": {
   "codemirror_mode": {
    "name": "ipython",
    "version": 3
   },
   "file_extension": ".py",
   "mimetype": "text/x-python",
   "name": "python",
   "nbconvert_exporter": "python",
   "pygments_lexer": "ipython3",
   "version": "3.8.8"
  }
 },
 "nbformat": 4,
 "nbformat_minor": 5
}
