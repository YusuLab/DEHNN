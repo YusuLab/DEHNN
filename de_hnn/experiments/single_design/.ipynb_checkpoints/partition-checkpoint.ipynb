{
 "cells": [
  {
   "cell_type": "code",
   "execution_count": 13,
   "id": "3d9b8909",
   "metadata": {},
   "outputs": [],
   "source": [
    "import torch\n",
    "import torch.nn as nn\n",
    "import torch.nn.functional as F\n",
    "from torch.optim import Adam, Adagrad\n",
    "from torch import optim\n",
    "\n",
    "import numpy as np\n",
    "import os\n",
    "import time\n",
    "import argparse\n",
    "import scipy\n",
    "import pickle\n",
    "\n",
    "# Our data loader\n",
    "from torch_geometric.loader import DataLoader\n",
    "from pyg_dataset_net import pyg_dataset\n",
    "\n",
    "# NetlistGNN data loader\n",
    "from load_netlistgnn_data import load_data\n",
    "\n",
    "# Deep Graph Library (DGL)\n",
    "import dgl"
   ]
  },
  {
   "cell_type": "code",
   "execution_count": 14,
   "id": "973dda86",
   "metadata": {},
   "outputs": [],
   "source": [
    "with open(f\"../../data/2023-03-06_data/all.idx_to_design.pkl\", \"rb\") as f:\n",
    "    idx_dict = pickle.load(f)"
   ]
  },
  {
   "cell_type": "code",
   "execution_count": 16,
   "id": "219fea05",
   "metadata": {},
   "outputs": [
    {
     "name": "stdout",
     "output_type": "stream",
     "text": [
      "Learning target: demand\n",
      "Data(x=[797938, 16], x_net=[821523, 7], num_instances=797938, y=[821523, 1], edge_index_node_net=[2, 2950019], edge_index_net_node=[2, 2950019], edge_index_node_node=[2, 5998176], edge_attr=[2, 1], cell_degrees=[797938], net_degrees=[821523]) 0\n",
      "0 797938 159\n",
      "Convert a graph into a bidirected graph: 0.176 seconds, peak memory: 5.809 GB\n",
      "Construct multi-constraint weights: 0.106 seconds, peak memory: 5.809 GB\n",
      "Metis partitioning: 3.399 seconds, peak memory: 5.809 GB\n",
      "Split the graph: 0.359 seconds\n",
      "Construct subgraphs: 0.213 seconds\n",
      "Learning target: demand\n",
      "Data(x=[951166, 16], x_net=[985117, 7], num_instances=951166, y=[985117, 1], edge_index_node_net=[2, 3338670], edge_index_net_node=[2, 3338670], edge_index_node_node=[2, 6915470], edge_attr=[2, 1], cell_degrees=[951166], net_degrees=[985117]) 5\n",
      "5 951166 190\n",
      "Convert a graph into a bidirected graph: 0.162 seconds, peak memory: 6.036 GB\n",
      "Construct multi-constraint weights: 0.131 seconds, peak memory: 6.036 GB\n",
      "Metis partitioning: 4.609 seconds, peak memory: 6.036 GB\n",
      "Split the graph: 0.454 seconds\n",
      "Construct subgraphs: 0.289 seconds\n",
      "Learning target: demand\n",
      "Data(x=[901254, 16], x_net=[925667, 7], num_instances=901254, y=[925667, 1], edge_index_node_net=[2, 3287048], edge_index_net_node=[2, 3287048], edge_index_node_node=[2, 6084064], edge_attr=[2, 1], cell_degrees=[901254], net_degrees=[925667]) 10\n",
      "10 901254 180\n",
      "Convert a graph into a bidirected graph: 0.105 seconds, peak memory: 6.253 GB\n",
      "Construct multi-constraint weights: 0.108 seconds, peak memory: 6.253 GB\n",
      "Metis partitioning: 4.666 seconds, peak memory: 6.253 GB\n",
      "Split the graph: 0.401 seconds\n",
      "Construct subgraphs: 0.335 seconds\n",
      "Learning target: demand\n",
      "Data(x=[556885, 16], x_net=[577705, 7], num_instances=556885, y=[577705, 1], edge_index_node_net=[2, 2012155], edge_index_net_node=[2, 2012155], edge_index_node_node=[2, 3760466], edge_attr=[2, 1], cell_degrees=[556885], net_degrees=[577705]) 16\n",
      "16 556885 111\n",
      "Convert a graph into a bidirected graph: 0.060 seconds, peak memory: 6.253 GB\n",
      "Construct multi-constraint weights: 0.076 seconds, peak memory: 6.253 GB\n",
      "Metis partitioning: 2.230 seconds, peak memory: 6.253 GB\n",
      "Split the graph: 0.238 seconds\n",
      "Construct subgraphs: 0.136 seconds\n",
      "Learning target: demand\n",
      "Data(x=[727341, 16], x_net=[803681, 7], num_instances=727341, y=[803681, 1], edge_index_node_net=[2, 2514664], edge_index_net_node=[2, 2514664], edge_index_node_node=[2, 4655340], edge_attr=[2, 1], cell_degrees=[727341], net_degrees=[803681]) 21\n",
      "21 727341 145\n",
      "Convert a graph into a bidirected graph: 0.095 seconds, peak memory: 6.253 GB\n",
      "Construct multi-constraint weights: 0.098 seconds, peak memory: 6.253 GB\n",
      "Metis partitioning: 4.545 seconds, peak memory: 6.253 GB\n",
      "Split the graph: 0.257 seconds\n",
      "Construct subgraphs: 0.201 seconds\n",
      "Learning target: demand\n",
      "Data(x=[998122, 16], x_net=[1049225, 7], num_instances=998122, y=[1049225, 1], edge_index_node_net=[2, 3560375], edge_index_net_node=[2, 3560375], edge_index_node_node=[2, 6826412], edge_attr=[2, 1], cell_degrees=[998122], net_degrees=[1049225]) 27\n",
      "27 998122 199\n",
      "Convert a graph into a bidirected graph: 0.132 seconds, peak memory: 6.303 GB\n",
      "Construct multi-constraint weights: 0.128 seconds, peak memory: 6.303 GB\n",
      "Metis partitioning: 4.764 seconds, peak memory: 6.303 GB\n",
      "Split the graph: 0.368 seconds\n",
      "Construct subgraphs: 0.398 seconds\n",
      "Learning target: demand\n",
      "Data(x=[1319052, 16], x_net=[1339522, 7], num_instances=1319052, y=[1339522, 1], edge_index_node_net=[2, 5155474], edge_index_net_node=[2, 5155474], edge_index_node_node=[2, 10026388], edge_attr=[2, 1], cell_degrees=[1319052], net_degrees=[1339522]) 33\n",
      "33 1319052 263\n",
      "Convert a graph into a bidirected graph: 0.222 seconds, peak memory: 6.446 GB\n",
      "Construct multi-constraint weights: 0.164 seconds, peak memory: 6.446 GB\n",
      "Metis partitioning: 6.844 seconds, peak memory: 6.446 GB\n",
      "Split the graph: 0.501 seconds\n",
      "Construct subgraphs: 0.321 seconds\n",
      "Learning target: demand\n",
      "Data(x=[502057, 16], x_net=[511407, 7], num_instances=502057, y=[511407, 1], edge_index_node_net=[2, 2023770], edge_index_net_node=[2, 2023770], edge_index_node_node=[2, 4985101], edge_attr=[2, 1], cell_degrees=[502057], net_degrees=[511407]) 39\n",
      "39 502057 100\n",
      "Convert a graph into a bidirected graph: 0.070 seconds, peak memory: 6.446 GB\n",
      "Construct multi-constraint weights: 0.061 seconds, peak memory: 6.446 GB\n",
      "Metis partitioning: 2.018 seconds, peak memory: 6.446 GB\n",
      "Split the graph: 0.198 seconds\n",
      "Construct subgraphs: 0.117 seconds\n",
      "Learning target: demand\n",
      "Data(x=[459495, 16], x_net=[468888, 7], num_instances=459495, y=[468888, 1], edge_index_node_net=[2, 1942114], edge_index_net_node=[2, 1942114], edge_index_node_node=[2, 3243961], edge_attr=[2, 1], cell_degrees=[459495], net_degrees=[468888]) 40\n",
      "40 459495 91\n",
      "Convert a graph into a bidirected graph: 0.052 seconds, peak memory: 6.446 GB\n",
      "Construct multi-constraint weights: 0.054 seconds, peak memory: 6.446 GB\n",
      "Metis partitioning: 2.011 seconds, peak memory: 6.446 GB\n",
      "Split the graph: 0.218 seconds\n",
      "Construct subgraphs: 0.102 seconds\n",
      "Learning target: demand\n",
      "Data(x=[495234, 16], x_net=[510258, 7], num_instances=495234, y=[510258, 1], edge_index_node_net=[2, 1775530], edge_index_net_node=[2, 1775530], edge_index_node_node=[2, 3257420], edge_attr=[2, 1], cell_degrees=[495234], net_degrees=[510258]) 44\n",
      "44 495234 99\n",
      "Convert a graph into a bidirected graph: 0.059 seconds, peak memory: 6.446 GB\n",
      "Construct multi-constraint weights: 0.059 seconds, peak memory: 6.446 GB\n",
      "Metis partitioning: 1.428 seconds, peak memory: 6.446 GB\n",
      "Split the graph: 0.186 seconds\n",
      "Construct subgraphs: 0.103 seconds\n",
      "Learning target: demand\n",
      "Data(x=[810812, 16], x_net=[830308, 7], num_instances=810812, y=[830308, 1], edge_index_node_net=[2, 3107242], edge_index_net_node=[2, 3107242], edge_index_node_node=[2, 5305486], edge_attr=[2, 1], cell_degrees=[810812], net_degrees=[830308]) 50\n",
      "50 810812 162\n",
      "Convert a graph into a bidirected graph: 0.085 seconds, peak memory: 6.446 GB\n",
      "Construct multi-constraint weights: 0.104 seconds, peak memory: 6.446 GB\n",
      "Metis partitioning: 3.950 seconds, peak memory: 6.446 GB\n",
      "Split the graph: 0.303 seconds\n",
      "Construct subgraphs: 0.202 seconds\n",
      "Learning target: demand\n",
      "Data(x=[923355, 16], x_net=[954144, 7], num_instances=923355, y=[954144, 1], edge_index_node_net=[2, 3459373], edge_index_net_node=[2, 3459373], edge_index_node_node=[2, 6327738], edge_attr=[2, 1], cell_degrees=[923355], net_degrees=[954144]) 56\n",
      "56 923355 184\n",
      "Convert a graph into a bidirected graph: 0.124 seconds, peak memory: 6.446 GB\n",
      "Construct multi-constraint weights: 0.112 seconds, peak memory: 6.446 GB\n",
      "Metis partitioning: 4.001 seconds, peak memory: 6.446 GB\n",
      "Split the graph: 0.350 seconds\n",
      "Construct subgraphs: 0.219 seconds\n",
      "Learning target: demand\n",
      "Data(x=[604921, 16], x_net=[627036, 7], num_instances=604921, y=[627036, 1], edge_index_node_net=[2, 2358662], edge_index_net_node=[2, 2358662], edge_index_node_node=[2, 4202840], edge_attr=[2, 1], cell_degrees=[604921], net_degrees=[627036]) 62\n",
      "62 604921 120\n",
      "Convert a graph into a bidirected graph: 0.076 seconds, peak memory: 6.446 GB\n",
      "Construct multi-constraint weights: 0.071 seconds, peak memory: 6.446 GB\n",
      "Metis partitioning: 2.448 seconds, peak memory: 6.446 GB\n",
      "Split the graph: 0.240 seconds\n",
      "Construct subgraphs: 0.134 seconds\n",
      "Learning target: demand\n",
      "Data(x=[671284, 16], x_net=[696983, 7], num_instances=671284, y=[696983, 1], edge_index_node_net=[2, 2532180], edge_index_net_node=[2, 2532180], edge_index_node_node=[2, 5103002], edge_attr=[2, 1], cell_degrees=[671284], net_degrees=[696983]) 68\n",
      "68 671284 134\n",
      "Convert a graph into a bidirected graph: 0.071 seconds, peak memory: 6.446 GB\n",
      "Construct multi-constraint weights: 0.084 seconds, peak memory: 6.446 GB\n",
      "Metis partitioning: 2.411 seconds, peak memory: 6.446 GB\n",
      "Split the graph: 0.204 seconds\n",
      "Construct subgraphs: 0.147 seconds\n"
     ]
    }
   ],
   "source": [
    "for graph_index in np.unique(list(idx_dict.values())):\n",
    "    dataset = pyg_dataset('../../data/2023-03-06_data/', graph_index = graph_index, target = 'demand', load_pe = False, num_eigen = 0, load_global_info = False, load_pd = False)\n",
    "    pyg_data = dataset[0]\n",
    "\n",
    "    num_instances = pyg_data.x.size(0)\n",
    "\n",
    "    num_nets = pyg_data.x_net.size(0)\n",
    "    \n",
    "    instance_idx = pyg_data.edge_index_node_net[0, :]\n",
    "\n",
    "    # Net indices\n",
    "    net_idx = pyg_data.edge_index_node_net[1, :]\n",
    "    \n",
    "    # Number of edges\n",
    "    num_edges = net_idx.numel()\n",
    "    \n",
    "    dgl_data = dgl.graph((instance_idx, net_idx))\n",
    "    \n",
    "    num_partitions = num_instances//5000\n",
    "    \n",
    "    print(graph_index, num_instances, num_partitions)\n",
    "    \n",
    "    balance_ntypes = [0 for idx in range(num_instances)] + [1 for idx in range(num_nets)]\n",
    "    \n",
    "    k = dgl.metis_partition(dgl_data, num_partitions, extra_cached_hops=3, balance_ntypes=balance_ntypes)\n",
    "    \n",
    "    node_lst = []\n",
    "    part_id = []\n",
    "\n",
    "    for i in range(num_partitions):\n",
    "        ndata = k[i].ndata\n",
    "        node_lst += k[i].ndata['_ID'].tolist()\n",
    "        part_id += k[i].ndata['part_id'].tolist()  \n",
    "\n",
    "    part_dict = {node_lst[idx]: part_id[idx] for idx in range(len(node_lst))}\n",
    "    \n",
    "    file_name = '../../data/2023-03-06_data/' + str(graph_index) + '.metis_part_dict.pkl'\n",
    "    f = open(file_name, 'wb')\n",
    "    pickle.dump(part_dict, f)\n",
    "    f.close()"
   ]
  },
  {
   "cell_type": "code",
   "execution_count": 75,
   "id": "882705db",
   "metadata": {},
   "outputs": [],
   "source": [
    "from sklearn.cluster import MiniBatchKMeans\n",
    "from sklearn.preprocessing import StandardScaler"
   ]
  },
  {
   "cell_type": "code",
   "execution_count": 41,
   "id": "48858c95",
   "metadata": {},
   "outputs": [],
   "source": [
    "X = torch.cat([pyg_data.x, pyg_data.evects[:len(pyg_data.cell_degrees)]], dim=1)"
   ]
  },
  {
   "cell_type": "code",
   "execution_count": 42,
   "id": "7ba00104",
   "metadata": {},
   "outputs": [],
   "source": [
    "X = X.numpy()"
   ]
  },
  {
   "cell_type": "code",
   "execution_count": 44,
   "id": "f2d8515c",
   "metadata": {},
   "outputs": [],
   "source": [
    "X = StandardScaler().fit_transform(X)"
   ]
  },
  {
   "cell_type": "code",
   "execution_count": 45,
   "id": "9343f49f",
   "metadata": {},
   "outputs": [
    {
     "data": {
      "text/plain": [
       "(797938, 51)"
      ]
     },
     "execution_count": 45,
     "metadata": {},
     "output_type": "execute_result"
    }
   ],
   "source": [
    "X.shape"
   ]
  },
  {
   "cell_type": "code",
   "execution_count": 46,
   "id": "b7377b29",
   "metadata": {},
   "outputs": [],
   "source": [
    "kmeans = MiniBatchKMeans(n_clusters=140, batch_size=10, max_iter=1000, max_no_improvement=100).fit(X)"
   ]
  },
  {
   "cell_type": "code",
   "execution_count": 47,
   "id": "0253fe3d",
   "metadata": {},
   "outputs": [],
   "source": [
    "labels = kmeans.labels_"
   ]
  },
  {
   "cell_type": "code",
   "execution_count": 48,
   "id": "bc78d534",
   "metadata": {},
   "outputs": [],
   "source": [
    "np.save(\"../../data/kmeans.npy\", kmeans.labels_)"
   ]
  },
  {
   "cell_type": "code",
   "execution_count": 20,
   "id": "e821ce60",
   "metadata": {},
   "outputs": [],
   "source": [
    "dictionary = {idx: labels[idx] for idx in range(len(labels))}"
   ]
  },
  {
   "cell_type": "code",
   "execution_count": 98,
   "id": "dabf3026",
   "metadata": {},
   "outputs": [],
   "source": [
    "file_name = '../../data/2023-03-06_data/' + str(3) + '.metis_part_dict.pkl'\n",
    "f = open(file_name, 'rb')\n",
    "dictionary = pickle.load(f)\n",
    "f.close()"
   ]
  },
  {
   "cell_type": "code",
   "execution_count": 96,
   "id": "26ef3edf",
   "metadata": {},
   "outputs": [
    {
     "data": {
      "text/plain": [
       "tensor([ 48, 107, 118,  ..., 121,  63, 132])"
      ]
     },
     "execution_count": 96,
     "metadata": {},
     "output_type": "execute_result"
    }
   ],
   "source": [
    "pyg_data.part_id"
   ]
  },
  {
   "cell_type": "code",
   "execution_count": 101,
   "id": "d395ab7b",
   "metadata": {},
   "outputs": [
    {
     "data": {
      "text/plain": [
       "107"
      ]
     },
     "execution_count": 101,
     "metadata": {},
     "output_type": "execute_result"
    }
   ],
   "source": [
    "dictionary[1]"
   ]
  },
  {
   "cell_type": "code",
   "execution_count": null,
   "id": "1a10622f",
   "metadata": {},
   "outputs": [],
   "source": []
  }
 ],
 "metadata": {
  "kernelspec": {
   "display_name": "Python 3",
   "language": "python",
   "name": "python3"
  },
  "language_info": {
   "codemirror_mode": {
    "name": "ipython",
    "version": 3
   },
   "file_extension": ".py",
   "mimetype": "text/x-python",
   "name": "python",
   "nbconvert_exporter": "python",
   "pygments_lexer": "ipython3",
   "version": "3.8.8"
  }
 },
 "nbformat": 4,
 "nbformat_minor": 5
}
