{
 "cells": [
  {
   "cell_type": "code",
   "execution_count": 1,
   "id": "751a5f65",
   "metadata": {
    "scrolled": true
   },
   "outputs": [],
   "source": [
    "import torch\n",
    "import torch.nn as nn\n",
    "import torch.nn.functional as F\n",
    "from torch.optim import Adam, Adagrad\n",
    "from torch import optim\n",
    "\n",
    "import numpy as np\n",
    "import os\n",
    "import time\n",
    "import argparse\n",
    "import scipy\n",
    "import pickle\n",
    "\n",
    "from scipy import stats\n",
    "\n",
    "from torch_geometric.loader import DataLoader\n",
    "\n",
    "from pyg_dataset import pyg_dataset\n",
    "\n",
    "from sklearn.metrics import r2_score\n",
    "\n",
    "import matplotlib.pyplot as plt\n",
    "\n",
    "from matplotlib.ticker import PercentFormatter\n",
    "\n",
    "import networkx as nx\n",
    "\n",
    "from tqdm.notebook import tqdm"
   ]
  },
  {
   "cell_type": "code",
   "execution_count": 2,
   "id": "97ec5d4a",
   "metadata": {},
   "outputs": [],
   "source": [
    "%load_ext autoreload\n",
    "\n",
    "%autoreload 2"
   ]
  },
  {
   "cell_type": "code",
   "execution_count": 3,
   "id": "35e4f58f",
   "metadata": {},
   "outputs": [],
   "source": [
    "graph_index = 5"
   ]
  },
  {
   "cell_type": "code",
   "execution_count": 4,
   "id": "03b96d22",
   "metadata": {},
   "outputs": [],
   "source": [
    "# Read learning targets\n",
    "data_dir = '../../data/2023-03-06_data/'\n",
    "file_name = data_dir + '/' + str(graph_index) + '.targets.pkl'\n",
    "f = open(file_name, 'rb')\n",
    "dictionary = pickle.load(f)\n",
    "f.close()\n",
    "demand = dictionary['demand']\n",
    "capacity = dictionary['capacity']\n",
    "y = np.sum(demand, axis = 1)"
   ]
  },
  {
   "cell_type": "code",
   "execution_count": 5,
   "id": "f5604458",
   "metadata": {},
   "outputs": [],
   "source": [
    "demand, count = np.unique(y, return_counts=True)"
   ]
  },
  {
   "cell_type": "code",
   "execution_count": 6,
   "id": "8bd459aa",
   "metadata": {
    "scrolled": false
   },
   "outputs": [
    {
     "data": {
      "text/plain": [
       "Text(0, 0.5, 'Percentage')"
      ]
     },
     "execution_count": 6,
     "metadata": {},
     "output_type": "execute_result"
    },
    {
     "data": {
      "image/png": "[encoded data removed]",
      "text/plain": [
       "<Figure size 720x360 with 1 Axes>"
      ]
     },
     "metadata": {
      "needs_background": "light"
     },
     "output_type": "display_data"
    }
   ],
   "source": [
    "plt.figure(figsize=(10, 5))\n",
    "n, bins, patches = plt.hist(y, bins=[val for val in demand if val <=100], weights=np.ones(len(y)) / len(y))\n",
    "plt.gca().yaxis.set_major_formatter(PercentFormatter(1))\n",
    "plt.title(\"Demand Distribution\")\n",
    "plt.xlabel(\"Demand\")\n",
    "plt.ylabel(\"Percentage\")"
   ]
  },
  {
   "cell_type": "code",
   "execution_count": 222,
   "id": "d9ca48b9",
   "metadata": {},
   "outputs": [
    {
     "name": "stdout",
     "output_type": "stream",
     "text": [
      "Outlier Counts\n"
     ]
    }
   ],
   "source": [
    "print(\"Outlier Counts\")\n",
    "for idx in range(len(demand)):\n",
    "    if demand[idx] >= 100:\n",
    "        print(f\"{demand[idx]} : count {count[idx]}\")"
   ]
  },
  {
   "cell_type": "code",
   "execution_count": 223,
   "id": "b11433f4",
   "metadata": {},
   "outputs": [],
   "source": [
    "q = count/sum(count)\n",
    "p = np.log(count)/sum(np.log(count))\n",
    "weight = p/q"
   ]
  },
  {
   "cell_type": "code",
   "execution_count": 224,
   "id": "1962cd86",
   "metadata": {
    "scrolled": true
   },
   "outputs": [],
   "source": [
    "weight_dict = {demand[idx]: weight[idx] for idx in range(len(demand))}"
   ]
  },
  {
   "cell_type": "code",
   "execution_count": 225,
   "id": "e75f0815",
   "metadata": {},
   "outputs": [],
   "source": [
    "with open(f\"../../data/2023-03-06_data/{graph_index}.weight_demand.pickle\", \"wb\") as f:\n",
    "    pickle.dump(weight_dict, f)"
   ]
  },
  {
   "cell_type": "code",
   "execution_count": 226,
   "id": "f60dfa72",
   "metadata": {},
   "outputs": [],
   "source": [
    "with open(f\"../../data/2023-03-06_data/{graph_index}.weight_demand.pickle\", \"rb\") as f:\n",
    "    weight_dict = pickle.load(f)"
   ]
  },
  {
   "cell_type": "code",
   "execution_count": 3,
   "id": "66e90ce6",
   "metadata": {},
   "outputs": [],
   "source": [
    "for graph_index in range(32):\n",
    "    with open(f\"../../data/2023-03-06_data/{graph_index}.dgms_neigh.pkl\", \"rb\") as f:\n",
    "        pd_d = pickle.load(f)\n",
    "        \n",
    "    pd = np.concatenate([pd_d['all_zero_dgms_0'], pd_d['all_one_dgms_0'], pd_d['all_zero_dgms_1'], pd_d['all_one_dgms_1']], axis=1)\n",
    "    \n",
    "    neighbor = np.concatenate([pd_d['all_neigh_0'], pd_d['all_neigh_1']], axis=1)\n",
    "    \n",
    "    d = {\n",
    "        \"pd\": pd,\n",
    "        \"neighbor\": neighbor\n",
    "    }\n",
    "    \n",
    "    with open(f\"../../data/2023-03-06_data/{graph_index}.node_neighbor_features.pkl\", \"wb\") as f:\n",
    "        pickle.dump(d, f)"
   ]
  },
  {
   "cell_type": "code",
   "execution_count": 64,
   "id": "370cd34e",
   "metadata": {},
   "outputs": [],
   "source": [
    "graph_index = 0\n",
    "with open(f\"../../data/2023-03-06_data/{graph_index}.node_neighbor_features.pkl\", \"rb\") as f:\n",
    "    d = pickle.load(f)"
   ]
  },
  {
   "cell_type": "code",
   "execution_count": 27,
   "id": "c9ba15c7",
   "metadata": {},
   "outputs": [
    {
     "name": "stdout",
     "output_type": "stream",
     "text": [
      "Read file ../../data/2023-03-06_data/0.star.pkl\n"
     ]
    },
    {
     "ename": "KeyboardInterrupt",
     "evalue": "",
     "output_type": "error",
     "traceback": [
      "\u001b[0;31m---------------------------------------------------------------------------\u001b[0m",
      "\u001b[0;31mKeyboardInterrupt\u001b[0m                         Traceback (most recent call last)",
      "\u001b[0;32m<ipython-input-27-8ede6e61fd09>\u001b[0m in \u001b[0;36m<module>\u001b[0;34m\u001b[0m\n\u001b[1;32m     53\u001b[0m     \u001b[0mnum_nodes\u001b[0m \u001b[0;34m=\u001b[0m \u001b[0md\u001b[0m\u001b[0;34m[\u001b[0m\u001b[0;34m'num_instances'\u001b[0m\u001b[0;34m]\u001b[0m\u001b[0;34m\u001b[0m\u001b[0;34m\u001b[0m\u001b[0m\n\u001b[1;32m     54\u001b[0m \u001b[0;34m\u001b[0m\u001b[0m\n\u001b[0;32m---> 55\u001b[0;31m     \u001b[0medge_index\u001b[0m \u001b[0;34m=\u001b[0m \u001b[0medge_index\u001b[0m\u001b[0;34m.\u001b[0m\u001b[0mtolist\u001b[0m\u001b[0;34m(\u001b[0m\u001b[0;34m)\u001b[0m\u001b[0;34m\u001b[0m\u001b[0;34m\u001b[0m\u001b[0m\n\u001b[0m\u001b[1;32m     56\u001b[0m     \u001b[0mG\u001b[0m \u001b[0;34m=\u001b[0m \u001b[0mnx\u001b[0m\u001b[0;34m.\u001b[0m\u001b[0mDiGraph\u001b[0m\u001b[0;34m(\u001b[0m\u001b[0medge_index\u001b[0m\u001b[0;34m)\u001b[0m\u001b[0;34m\u001b[0m\u001b[0;34m\u001b[0m\u001b[0m\n\u001b[1;32m     57\u001b[0m     \u001b[0mnodelist\u001b[0m \u001b[0;34m=\u001b[0m \u001b[0mlist\u001b[0m\u001b[0;34m(\u001b[0m\u001b[0mG\u001b[0m\u001b[0;34m.\u001b[0m\u001b[0mnodes\u001b[0m\u001b[0;34m)\u001b[0m\u001b[0;34m\u001b[0m\u001b[0;34m\u001b[0m\u001b[0m\n",
      "\u001b[0;31mKeyboardInterrupt\u001b[0m: "
     ]
    }
   ],
   "source": [
    "abs_dir = '/data/son/Research/chips/congestion_prediction/data/'\n",
    "raw_data_dir = abs_dir + 'RosettaStone-GraphData-2023-03-06/'\n",
    "graph_rep = \"star\"\n",
    "\n",
    "designs_list = [\n",
    "    'superblue1',\n",
    "    'superblue2',\n",
    "    'superblue3',\n",
    "    'superblue4',\n",
    "    'superblue18',\n",
    "    'superblue19'\n",
    "]\n",
    "num_designs = len(designs_list)\n",
    "num_variants_list = [\n",
    "    5,\n",
    "    5,\n",
    "    6,\n",
    "    5,\n",
    "    5,\n",
    "    6\n",
    "]\n",
    "assert num_designs == len(num_variants_list)\n",
    "\n",
    "# Generate all names\n",
    "sample_names = []\n",
    "corresponding_design = []\n",
    "corresponding_variant = []\n",
    "for idx in range(num_designs):\n",
    "    for variant in range(num_variants_list[idx]):\n",
    "        sample_name = raw_data_dir + designs_list[idx] + '/' + str(variant + 1) + '/'\n",
    "        sample_names.append(sample_name)\n",
    "        corresponding_design.append(designs_list[idx])\n",
    "        corresponding_variant.append(variant + 1)\n",
    "\n",
    "# Synthetic data\n",
    "N = len(sample_names)\n",
    "data_dir = '../../data/2023-03-06_data'\n",
    "\n",
    "for sample in range(N):\n",
    "    # Connection data \n",
    "    graph_rep = 'star'\n",
    "    fn = data_dir + '/' + str(sample) + f'.{graph_rep}.pkl'\n",
    "    f = open(fn, \"rb\")\n",
    "    dictionary = pickle.load(f)\n",
    "    f.close()\n",
    "    print('Read file', fn)\n",
    "    \n",
    "    with open(f\"../../data/2023-03-06_data/{sample}.node_features.pkl\", \"rb\") as f:\n",
    "        d = pickle.load(f)\n",
    "    \n",
    "    instance_features = d['instance_features']\n",
    "    \n",
    "    if instance_features.shape[1] == 8:\n",
    "        continue\n",
    "    \n",
    "    edge_index = dictionary['edge_index']\n",
    "    instance_idx = dictionary['instance_idx']\n",
    "    num_nodes = d['num_instances']\n",
    "    \n",
    "    edge_index = edge_index.tolist()\n",
    "    G = nx.DiGraph(edge_index)\n",
    "    nodelist = list(G.nodes)\n",
    "    \n",
    "    in_degree = [0 for i in range(num_nodes)]\n",
    "    out_degree = [0 for i in range(num_nodes)]\n",
    "\n",
    "    for node in tqdm(nodelist):\n",
    "        in_degree[node] = G.in_degree[node]\n",
    "        out_degree[node] = G.out_degree[node]\n",
    "    \n",
    "    \n",
    "    instance_features = np.concatenate([instance_features, np.array(in_degree).reshape(-1, 1), np.array(out_degree).reshape(-1, 1)], axis=1)\n",
    "    d['instance_features'] = instance_features\n",
    "\n",
    "    with open(f\"../../data/2023-03-06_data/{sample}.node_features.pkl\", \"wb\") as f:\n",
    "        pickle.dump(d, f)"
   ]
  },
  {
   "cell_type": "code",
   "execution_count": null,
   "id": "23af7123",
   "metadata": {},
   "outputs": [],
   "source": [
    "with open(\"train_mlp/demand/train_mlp.target.demand.num_epoch.1000.batch_size.1.learning_rate.0.002.seed.123456789.hidden_dim.512.load_pe.0.num_eigen.10.load_global_info.0.load_pd.1.graph_index.0.log\") as f:\n",
    "    train_weighted_lst = []\n",
    "    train_mse_lst = []\n",
    "    valid_weighted_lst = []\n",
    "    valid_mse_lst = []\n",
    "    \n",
    "    while True:\n",
    "        line = f.readline()\n",
    "        \n",
    "        if len(line) == 0:\n",
    "            break\n",
    "        \n",
    "        if line.split(\" = \")[0] == \"Batch 0/1: Loss\":\n",
    "            train_weighted_loss = float(line.split(\" \")[4])\n",
    "            train_mse_loss = float(line.split(\"tensor(\")[1].split(\",\")[0])\n",
    "            train_weighted_lst.append(train_weighted_loss)\n",
    "            train_mse_lst.append(train_mse_loss)\n",
    "            \n",
    "        if line.split(\" = \")[0] == \"Valid Batch 0/1: Loss\":\n",
    "            valid_weighted_loss = float(line.split(\" \")[5])\n",
    "            valid_mse_loss = float(line.split(\"tensor(\")[1].split(\",\")[0])\n",
    "            valid_weighted_lst.append(valid_weighted_loss)\n",
    "            valid_mse_lst.append(valid_mse_loss)\n",
    "            \n",
    "        "
   ]
  },
  {
   "cell_type": "code",
   "execution_count": 23,
   "id": "c7032c38",
   "metadata": {},
   "outputs": [
    {
     "data": {
      "text/plain": [
       "Text(0.5, 1.0, 'Weighted loss plot')"
      ]
     },
     "execution_count": 23,
     "metadata": {},
     "output_type": "execute_result"
    },
    {
     "data": {
      "image/png": "[encoded data removed]",
      "text/plain": [
       "<Figure size 1080x360 with 1 Axes>"
      ]
     },
     "metadata": {
      "needs_background": "light"
     },
     "output_type": "display_data"
    }
   ],
   "source": [
    "plt.figure(figsize=(15, 5))\n",
    "plt.plot([idx for idx in range(len(train_weighted_lst))], train_weighted_lst)\n",
    "plt.plot([idx for idx in range(len(valid_weighted_lst))], valid_weighted_lst)\n",
    "plt.legend([\"train_weighted_mse_loss\", \"valid_weighted_mse_loss\"])\n",
    "plt.title(\"Weighted loss plot\")"
   ]
  },
  {
   "cell_type": "code",
   "execution_count": 24,
   "id": "39274e5d",
   "metadata": {},
   "outputs": [
    {
     "data": {
      "text/plain": [
       "Text(0.5, 1.0, 'Mse loss plot')"
      ]
     },
     "execution_count": 24,
     "metadata": {},
     "output_type": "execute_result"
    },
    {
     "data": {
      "image/png": "[encoded data removed]",
      "text/plain": [
       "<Figure size 1080x360 with 1 Axes>"
      ]
     },
     "metadata": {
      "needs_background": "light"
     },
     "output_type": "display_data"
    }
   ],
   "source": [
    "plt.figure(figsize=(15, 5))\n",
    "plt.plot([idx for idx in range(len(train_mse_lst))], train_mse_lst)\n",
    "plt.plot([idx for idx in range(len(valid_mse_lst))], valid_mse_lst)\n",
    "plt.legend([\"train_mse_loss\", \"valid_mse_loss\"])\n",
    "plt.title(\"Mse loss plot\")"
   ]
  },
  {
   "cell_type": "code",
   "execution_count": 17,
   "id": "dbc49185",
   "metadata": {
    "scrolled": true
   },
   "outputs": [
    {
     "ename": "NameError",
     "evalue": "name 'data' is not defined",
     "output_type": "error",
     "traceback": [
      "\u001b[0;31m---------------------------------------------------------------------------\u001b[0m",
      "\u001b[0;31mNameError\u001b[0m                                 Traceback (most recent call last)",
      "\u001b[0;32m<ipython-input-17-17e4c2348847>\u001b[0m in \u001b[0;36m<module>\u001b[0;34m\u001b[0m\n\u001b[1;32m      2\u001b[0m \u001b[0mG\u001b[0m \u001b[0;34m=\u001b[0m \u001b[0mnx\u001b[0m\u001b[0;34m.\u001b[0m\u001b[0mDiGraph\u001b[0m\u001b[0;34m(\u001b[0m\u001b[0medge_index\u001b[0m\u001b[0;34m)\u001b[0m\u001b[0;34m\u001b[0m\u001b[0;34m\u001b[0m\u001b[0m\n\u001b[1;32m      3\u001b[0m \u001b[0mnodelist\u001b[0m \u001b[0;34m=\u001b[0m \u001b[0mlist\u001b[0m\u001b[0;34m(\u001b[0m\u001b[0mG\u001b[0m\u001b[0;34m.\u001b[0m\u001b[0mnodes\u001b[0m\u001b[0;34m)\u001b[0m\u001b[0;34m\u001b[0m\u001b[0;34m\u001b[0m\u001b[0m\n\u001b[0;32m----> 4\u001b[0;31m \u001b[0mnum_nodes\u001b[0m \u001b[0;34m=\u001b[0m \u001b[0mdata\u001b[0m\u001b[0;34m.\u001b[0m\u001b[0mx\u001b[0m\u001b[0;34m.\u001b[0m\u001b[0mshape\u001b[0m\u001b[0;34m[\u001b[0m\u001b[0;36m0\u001b[0m\u001b[0;34m]\u001b[0m\u001b[0;34m\u001b[0m\u001b[0;34m\u001b[0m\u001b[0m\n\u001b[0m\u001b[1;32m      5\u001b[0m \u001b[0min_degree\u001b[0m \u001b[0;34m=\u001b[0m \u001b[0;34m[\u001b[0m\u001b[0;36m0\u001b[0m \u001b[0;32mfor\u001b[0m \u001b[0mi\u001b[0m \u001b[0;32min\u001b[0m \u001b[0mrange\u001b[0m\u001b[0;34m(\u001b[0m\u001b[0mnum_nodes\u001b[0m\u001b[0;34m)\u001b[0m\u001b[0;34m]\u001b[0m\u001b[0;34m\u001b[0m\u001b[0;34m\u001b[0m\u001b[0m\n\u001b[1;32m      6\u001b[0m \u001b[0mout_degree\u001b[0m \u001b[0;34m=\u001b[0m \u001b[0;34m[\u001b[0m\u001b[0;36m0\u001b[0m \u001b[0;32mfor\u001b[0m \u001b[0mi\u001b[0m \u001b[0;32min\u001b[0m \u001b[0mrange\u001b[0m\u001b[0;34m(\u001b[0m\u001b[0mnum_nodes\u001b[0m\u001b[0;34m)\u001b[0m\u001b[0;34m]\u001b[0m\u001b[0;34m\u001b[0m\u001b[0;34m\u001b[0m\u001b[0m\n",
      "\u001b[0;31mNameError\u001b[0m: name 'data' is not defined"
     ]
    }
   ],
   "source": [
    "edge_index = edge_index.tolist()\n",
    "G = nx.DiGraph(edge_index)\n",
    "nodelist = list(G.nodes)\n",
    "in_degree = [0 for i in range(num_nodes)]\n",
    "out_degree = [0 for i in range(num_nodes)]"
   ]
  },
  {
   "cell_type": "code",
   "execution_count": 124,
   "id": "0e6fa74d",
   "metadata": {},
   "outputs": [],
   "source": [
    "instance_features = torch.Tensor(d['instance_features'])\n",
    "        \n",
    "instance_features = instance_features[:, 2:]"
   ]
  },
  {
   "cell_type": "code",
   "execution_count": 126,
   "id": "dd2a0878",
   "metadata": {},
   "outputs": [
    {
     "data": {
      "text/plain": [
       "tensor([[1.3200e+02, 3.9980e-04, 0.0000e+00, 0.0000e+00, 3.0000e+00, 1.0000e+00],\n",
       "        [3.5900e+02, 7.9960e-04, 0.0000e+00, 6.0000e+00, 4.0000e+00, 1.0000e+00],\n",
       "        [1.7600e+02, 4.9975e-04, 0.0000e+00, 0.0000e+00, 4.0000e+00, 1.0000e+00],\n",
       "        ...,\n",
       "        [6.0000e+00, 1.5992e-03, 0.0000e+00, 0.0000e+00, 1.0000e+00, 1.0000e+00],\n",
       "        [6.0000e+00, 1.5992e-03, 0.0000e+00, 0.0000e+00, 1.0000e+00, 1.0000e+00],\n",
       "        [6.0000e+00, 1.5992e-03, 0.0000e+00, 6.0000e+00, 1.0000e+00, 1.0000e+00]])"
      ]
     },
     "execution_count": 126,
     "metadata": {},
     "output_type": "execute_result"
    }
   ],
   "source": [
    "instance_features"
   ]
  },
  {
   "cell_type": "code",
   "execution_count": 128,
   "id": "20394a6b",
   "metadata": {},
   "outputs": [
    {
     "data": {
      "text/plain": [
       "tensor([[1.3200e+02, 3.9980e-04, 0.0000e+00, 0.0000e+00, 3.0000e+00, 1.0000e+00],\n",
       "        [3.5900e+02, 7.9960e-04, 0.0000e+00, 6.0000e+00, 4.0000e+00, 1.0000e+00],\n",
       "        [1.7600e+02, 4.9975e-04, 0.0000e+00, 0.0000e+00, 4.0000e+00, 1.0000e+00],\n",
       "        ...,\n",
       "        [6.0000e+00, 1.5992e-03, 0.0000e+00, 0.0000e+00, 1.0000e+00, 1.0000e+00],\n",
       "        [6.0000e+00, 1.5992e-03, 0.0000e+00, 0.0000e+00, 1.0000e+00, 1.0000e+00],\n",
       "        [6.0000e+00, 1.5992e-03, 0.0000e+00, 6.0000e+00, 1.0000e+00, 1.0000e+00]])"
      ]
     },
     "execution_count": 128,
     "metadata": {},
     "output_type": "execute_result"
    }
   ],
   "source": [
    "instance_features"
   ]
  },
  {
   "cell_type": "code",
   "execution_count": null,
   "id": "f79af7ac",
   "metadata": {},
   "outputs": [],
   "source": []
  },
  {
   "cell_type": "code",
   "execution_count": null,
   "id": "862e0c77",
   "metadata": {},
   "outputs": [],
   "source": []
  }
 ],
 "metadata": {
  "kernelspec": {
   "display_name": "Python 3",
   "language": "python",
   "name": "python3"
  },
  "language_info": {
   "codemirror_mode": {
    "name": "ipython",
    "version": 3
   },
   "file_extension": ".py",
   "mimetype": "text/x-python",
   "name": "python",
   "nbconvert_exporter": "python",
   "pygments_lexer": "ipython3",
   "version": "3.8.8"
  }
 },
 "nbformat": 4,
 "nbformat_minor": 5
}
