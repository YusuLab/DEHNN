{
 "cells": [
  {
   "cell_type": "code",
   "execution_count": 1,
   "id": "6a607d42",
   "metadata": {},
   "outputs": [],
   "source": [
    "import torch\n",
    "import torch.nn as nn\n",
    "from torch_geometric.nn import MessagePassing\n",
    "import torch.nn.functional as F\n",
    "from torch_geometric.nn import global_mean_pool, global_add_pool\n",
    "from torch_geometric.utils import degree\n",
    "from torch_geometric.nn import GCNConv, GINConv\n",
    "from torch.nn import Sequential as Seq, Linear, ReLU\n",
    "from torch_geometric.utils import add_self_loops, degree\n",
    "\n",
    "import math\n",
    "import pickle\n",
    "from collections import defaultdict\n",
    "import numpy as np\n",
    "import matplotlib.pyplot as plt\n",
    "from matplotlib.ticker import PercentFormatter\n",
    "from pyg_dataset import pyg_dataset"
   ]
  },
  {
   "cell_type": "code",
   "execution_count": 2,
   "id": "5442b8f7",
   "metadata": {},
   "outputs": [],
   "source": [
    "%load_ext autoreload\n",
    "\n",
    "%autoreload 2"
   ]
  },
  {
   "cell_type": "code",
   "execution_count": 27,
   "id": "a42e842f",
   "metadata": {},
   "outputs": [],
   "source": [
    "data_dir = \"../../data/2023-03-06_data/\"\n",
    "graph_index = 0\n",
    "file_name = data_dir + '/' + str(graph_index) + '.bipartite.pkl'\n",
    "f = open(file_name, 'rb')\n",
    "dictionary = pickle.load(f)\n",
    "f.close()\n",
    "\n",
    "instance_idx = dictionary['instance_idx']\n",
    "net_idx = dictionary['net_idx']\n",
    "edge_dir = dictionary['edge_dir']"
   ]
  },
  {
   "cell_type": "code",
   "execution_count": 28,
   "id": "41e4b78e",
   "metadata": {},
   "outputs": [],
   "source": [
    "# Read node features\n",
    "file_name = data_dir + '/' + str(graph_index) + '.node_features.pkl'\n",
    "f = open(file_name, 'rb')\n",
    "dictionary = pickle.load(f)\n",
    "f.close()\n",
    "num_instances = dictionary['num_instances']\n",
    "num_nets = dictionary['num_nets']\n",
    "instance_features = torch.Tensor(dictionary['instance_features'])"
   ]
  },
  {
   "cell_type": "code",
   "execution_count": 57,
   "id": "2a0e335e",
   "metadata": {},
   "outputs": [
    {
     "ename": "SyntaxError",
     "evalue": "invalid syntax (<ipython-input-57-d6591062c9ac>, line 1)",
     "output_type": "error",
     "traceback": [
      "\u001b[0;36m  File \u001b[0;32m\"<ipython-input-57-d6591062c9ac>\"\u001b[0;36m, line \u001b[0;32m1\u001b[0m\n\u001b[0;31m    for idx in range(32)\u001b[0m\n\u001b[0m                        ^\u001b[0m\n\u001b[0;31mSyntaxError\u001b[0m\u001b[0;31m:\u001b[0m invalid syntax\n"
     ]
    }
   ],
   "source": [
    "for idx in range(1, 32):\n",
    "\n",
    "    data_dir = \"../../data/2023-03-06_data/\"\n",
    "    graph_index = idx\n",
    "    file_name = data_dir + '/' + str(graph_index) + '.bipartite.pkl'\n",
    "    f = open(file_name, 'rb')\n",
    "    dictionary = pickle.load(f)\n",
    "    f.close()\n",
    "\n",
    "    instance_idx = dictionary['instance_idx']\n",
    "    net_idx = dictionary['net_idx']\n",
    "    edge_dir = dictionary['edge_dir']\n",
    "\n",
    "    net_idx = net_idx + num_instances\n",
    "\n",
    "    net_dict = defaultdict(list)\n",
    "    for idx in range(len(instance_idx)):\n",
    "        instance = instance_idx[idx]\n",
    "        net = net_idx[idx]\n",
    "        net_dict[net].append(instance)\n",
    "        \n",
    "    us4, vs4 = [], []\n",
    "\n",
    "    for net, node_lst in tqdm(net_dict.items()):\n",
    "        if len(node_lst) >= 100:\n",
    "            continue\n",
    "\n",
    "        tp = node_pairs_among(node_lst)\n",
    "        us4 += tp[0]\n",
    "        vs4 += tp[1]\n",
    "        \n",
    "    conn_dict = {\"nn_edge_index\": torch.tensor([us4, vs4]).long()}\n",
    "    \n",
    "    with open(f\"../../data/2023-03-06_data/{idx}.nn_conn.pkl\", \"wb\") as f:\n",
    "        pickle.dump(conn_dict, f)"
   ]
  },
  {
   "cell_type": "code",
   "execution_count": 51,
   "id": "b030246a",
   "metadata": {},
   "outputs": [],
   "source": [
    "def node_pairs_among(nodes, max_cap=5):\n",
    "    us = []\n",
    "    vs = []\n",
    "    if max_cap == -1 or len(nodes) <= max_cap:\n",
    "        for u in nodes:\n",
    "            for v in nodes:\n",
    "                if u == v:\n",
    "                    continue\n",
    "                us.append(u)\n",
    "                vs.append(v)\n",
    "    else:\n",
    "        for u in nodes:\n",
    "            vs_ = np.random.permutation(nodes)\n",
    "            left = max_cap - 1\n",
    "            for v_ in vs_:\n",
    "                if left == 0:\n",
    "                    break\n",
    "                if u == v_:\n",
    "                    continue\n",
    "                us.append(u)\n",
    "                vs.append(v_)\n",
    "                left -= 1\n",
    "    return us, vs"
   ]
  },
  {
   "cell_type": "code",
   "execution_count": 49,
   "id": "4ff0e36f",
   "metadata": {},
   "outputs": [],
   "source": [
    "from tqdm.notebook import tqdm"
   ]
  },
  {
   "cell_type": "code",
   "execution_count": 52,
   "id": "19764ad6",
   "metadata": {},
   "outputs": [
    {
     "data": {
      "application/vnd.jupyter.widget-view+json": {
       "model_id": "259f3594877647668cef8cfb6a4f636b",
       "version_major": 2,
       "version_minor": 0
      },
      "text/plain": [
       "  0%|          | 0/820668 [00:00<?, ?it/s]"
      ]
     },
     "metadata": {},
     "output_type": "display_data"
    }
   ],
   "source": [
    "us4, vs4 = [], []\n",
    "\n",
    "for net, node_lst in tqdm(net_dict.items()):\n",
    "    if len(node_lst) >= 100:\n",
    "        continue\n",
    "    \n",
    "    tp = node_pairs_among(node_lst)\n",
    "    us4 += tp[0]\n",
    "    vs4 += tp[1]"
   ]
  },
  {
   "cell_type": "code",
   "execution_count": 55,
   "id": "3122b284",
   "metadata": {},
   "outputs": [],
   "source": [
    "conn_dict = {\"nn_edge_index\": torch.tensor([us4, vs4]).long()}"
   ]
  },
  {
   "cell_type": "code",
   "execution_count": 56,
   "id": "2f0c3161",
   "metadata": {},
   "outputs": [],
   "source": [
    "with open(\"../../data/2023-03-06_data/0.nn_conn.pkl\", \"wb\") as f:\n",
    "    pickle.dump(conn_dict, f)"
   ]
  },
  {
   "cell_type": "code",
   "execution_count": 7,
   "id": "c0d4ab25",
   "metadata": {},
   "outputs": [],
   "source": [
    "with open(\"../../data/2023-03-06_data/0.net_dict.pkl\", \"wb\") as f:\n",
    "    pickle.dump(net_dict, f)"
   ]
  },
  {
   "cell_type": "code",
   "execution_count": 32,
   "id": "1f87cf32",
   "metadata": {},
   "outputs": [],
   "source": [
    "class HyperConv(MessagePassing):\n",
    "    def __init__(self, in_channels, out_channels):\n",
    "        super().__init__(aggr='add')\n",
    "        self.phi = Seq(Linear(in_channels, out_channels),\n",
    "                       ReLU(),\n",
    "                       Linear(out_channels, out_channels))\n",
    "        self.psi1 = Seq(Linear(out_channels, out_channels),\n",
    "                       ReLU(),\n",
    "                       Linear(out_channels, out_channels))\n",
    "        \n",
    "        self.psi2 = Seq(Linear(out_channels, out_channels),\n",
    "                       ReLU(),\n",
    "                       Linear(out_channels, out_channels))\n",
    "        \n",
    "        self.mlp = Seq(Linear(in_channels + out_channels * 2, out_channels),\n",
    "                       ReLU(),\n",
    "                       Linear(out_channels, out_channels))\n",
    "        \n",
    "    def forward(self, x, edge_index, edge_index_v_drive, edge_index_v_sink):\n",
    "        # here the edge_index should be [[inst_idx], [net_idx]], which represent edges from instances to nets\n",
    "        net_agg = self.propagate(edge_index, edge_type=\"inst_to_net\", x=x)\n",
    "        \n",
    "        # after we get the net aggregation, we passed the net's aggregated information back to instances\n",
    "        h_drive = self.propagate(edge_index_v_drive.flip(0), edge_type=\"net_to_inst_v_drive\", x=net_agg)\n",
    "        h_sink = self.propagate(edge_index_v_sink.flip(0), edge_type=\"net_to_inst_v_sink\", x=net_agg)\n",
    "        \n",
    "        return self.mlp(torch.concat([x, h_drive, h_sink], dim=1))\n",
    "    \n",
    "    def message(self, x, x_i, x_j, edge_index, edge_type):\n",
    "        if edge_type == \"inst_to_net\":\n",
    "            output = self.phi(x_j)\n",
    "        \n",
    "        if edge_type == \"net_to_inst_v_drive\":\n",
    "            output = self.psi2(x_j)\n",
    "        \n",
    "        if edge_type == \"net_to_inst_v_sink\":\n",
    "            output = self.psi1(x_j)\n",
    "        \n",
    "        return output"
   ]
  },
  {
   "cell_type": "code",
   "execution_count": 6,
   "id": "45e3fc17",
   "metadata": {},
   "outputs": [],
   "source": [
    "from pyg_dataset_sparse import pyg_dataset_sparse\n",
    "from pyg_dataset import pyg_dataset"
   ]
  },
  {
   "cell_type": "code",
   "execution_count": 7,
   "id": "4708aec7",
   "metadata": {},
   "outputs": [],
   "source": [
    "device = torch.device(\"cpu\")"
   ]
  },
  {
   "cell_type": "code",
   "execution_count": 9,
   "id": "7326e578",
   "metadata": {
    "scrolled": false
   },
   "outputs": [
    {
     "name": "stdout",
     "output_type": "stream",
     "text": [
      "Learning target: demand\n",
      "62 62\n",
      "Data(x=[495234, 70], y=[510258, 1], net_inst_adj=[510258, 495234], inst_net_adj_v_drive=[495234, 510258], inst_net_adj_v_sink=[495234, 510258], num_vn=62, num_top_vn=62, part_id=[495234], x_net=[510258, 7]) 26\n"
     ]
    },
    {
     "data": {
      "text/plain": [
       "Data(x=[495234, 70], y=[510258, 1], net_inst_adj=[510258, 495234], inst_net_adj_v_drive=[495234, 510258], inst_net_adj_v_sink=[495234, 510258], num_vn=62, num_top_vn=62, part_id=[495234], x_net=[510258, 7])"
      ]
     },
     "execution_count": 9,
     "metadata": {},
     "output_type": "execute_result"
    }
   ],
   "source": [
    "dataset = pyg_dataset_sparse('../../data/2023-03-06_data/', graph_index = 26, target = 'demand', graph_rep = \"bipartite\", load_pe = False, num_eigen = 0, load_global_info = False, load_pd = True)\n",
    "data = dataset[0]\n",
    "data"
   ]
  },
  {
   "cell_type": "code",
   "execution_count": 10,
   "id": "fef6511a",
   "metadata": {},
   "outputs": [
    {
     "data": {
      "text/plain": [
       "torch.Size([1, 510258, 1])"
      ]
     },
     "execution_count": 10,
     "metadata": {},
     "output_type": "execute_result"
    }
   ],
   "source": [
    "torch.unsqueeze(data.y, dim=0).shape"
   ]
  },
  {
   "cell_type": "code",
   "execution_count": 41,
   "id": "9eb22459",
   "metadata": {},
   "outputs": [
    {
     "name": "stdout",
     "output_type": "stream",
     "text": [
      "Learning target: demand\n",
      "Data(x=[951166, 68], y=[985117, 1], net_inst_adj=[985117, 951166], inst_net_adj_v_drive=[951166, 985117], inst_net_adj_v_sink=[951166, 985117], x_net=[985117, 7]) 6\n",
      "Learning target: demand\n",
      "Data(x=[951166, 68], y=[985117, 1], net_inst_adj=[985117, 951166], inst_net_adj_v_drive=[951166, 985117], inst_net_adj_v_sink=[951166, 985117], x_net=[985117, 7]) 7\n",
      "Learning target: demand\n",
      "Data(x=[951166, 68], y=[985117, 1], net_inst_adj=[985117, 951166], inst_net_adj_v_drive=[951166, 985117], inst_net_adj_v_sink=[951166, 985117], x_net=[985117, 7]) 8\n",
      "Learning target: demand\n",
      "Data(x=[951166, 68], y=[985117, 1], net_inst_adj=[985117, 951166], inst_net_adj_v_drive=[951166, 985117], inst_net_adj_v_sink=[951166, 985117], x_net=[985117, 7]) 9\n",
      "Learning target: demand\n",
      "Data(x=[901254, 68], y=[925667, 1], net_inst_adj=[925667, 901254], inst_net_adj_v_drive=[901254, 925667], inst_net_adj_v_sink=[901254, 925667], x_net=[925667, 7]) 10\n",
      "Learning target: demand\n",
      "Data(x=[901254, 68], y=[925667, 1], net_inst_adj=[925667, 901254], inst_net_adj_v_drive=[901254, 925667], inst_net_adj_v_sink=[901254, 925667], x_net=[925667, 7]) 11\n",
      "Learning target: demand\n",
      "Data(x=[901254, 68], y=[925667, 1], net_inst_adj=[925667, 901254], inst_net_adj_v_drive=[901254, 925667], inst_net_adj_v_sink=[901254, 925667], x_net=[925667, 7]) 12\n",
      "Learning target: demand\n",
      "Data(x=[901254, 68], y=[925667, 1], net_inst_adj=[925667, 901254], inst_net_adj_v_drive=[901254, 925667], inst_net_adj_v_sink=[901254, 925667], x_net=[925667, 7]) 13\n",
      "Learning target: demand\n",
      "Data(x=[901254, 68], y=[925667, 1], net_inst_adj=[925667, 901254], inst_net_adj_v_drive=[901254, 925667], inst_net_adj_v_sink=[901254, 925667], x_net=[925667, 7]) 14\n",
      "Learning target: demand\n",
      "Data(x=[901254, 68], y=[925667, 1], net_inst_adj=[925667, 901254], inst_net_adj_v_drive=[901254, 925667], inst_net_adj_v_sink=[901254, 925667], x_net=[925667, 7]) 15\n",
      "Learning target: demand\n",
      "Data(x=[556885, 68], y=[577705, 1], net_inst_adj=[577705, 556885], inst_net_adj_v_drive=[556885, 577705], inst_net_adj_v_sink=[556885, 577705], x_net=[577705, 7]) 16\n",
      "Learning target: demand\n",
      "Data(x=[556885, 68], y=[577705, 1], net_inst_adj=[577705, 556885], inst_net_adj_v_drive=[556885, 577705], inst_net_adj_v_sink=[556885, 577705], x_net=[577705, 7]) 17\n",
      "Learning target: demand\n",
      "Data(x=[556885, 68], y=[577705, 1], net_inst_adj=[577705, 556885], inst_net_adj_v_drive=[556885, 577705], inst_net_adj_v_sink=[556885, 577705], x_net=[577705, 7]) 18\n",
      "Learning target: demand\n",
      "Data(x=[556885, 68], y=[577705, 1], net_inst_adj=[577705, 556885], inst_net_adj_v_drive=[556885, 577705], inst_net_adj_v_sink=[556885, 577705], x_net=[577705, 7]) 19\n",
      "Learning target: demand\n",
      "Data(x=[556885, 68], y=[577705, 1], net_inst_adj=[577705, 556885], inst_net_adj_v_drive=[556885, 577705], inst_net_adj_v_sink=[556885, 577705], x_net=[577705, 7]) 20\n",
      "Learning target: demand\n",
      "Data(x=[502057, 68], y=[511407, 1], net_inst_adj=[511407, 502057], inst_net_adj_v_drive=[502057, 511407], inst_net_adj_v_sink=[502057, 511407], x_net=[511407, 7]) 21\n",
      "Learning target: demand\n",
      "Data(x=[459495, 68], y=[468888, 1], net_inst_adj=[468888, 459495], inst_net_adj_v_drive=[459495, 468888], inst_net_adj_v_sink=[459495, 468888], x_net=[468888, 7]) 22\n",
      "Learning target: demand\n",
      "Data(x=[459495, 68], y=[468888, 1], net_inst_adj=[468888, 459495], inst_net_adj_v_drive=[459495, 468888], inst_net_adj_v_sink=[459495, 468888], x_net=[468888, 7]) 23\n",
      "Learning target: demand\n",
      "Data(x=[459495, 68], y=[468888, 1], net_inst_adj=[468888, 459495], inst_net_adj_v_drive=[459495, 468888], inst_net_adj_v_sink=[459495, 468888], x_net=[468888, 7]) 24\n",
      "Learning target: demand\n",
      "Data(x=[459495, 68], y=[468888, 1], net_inst_adj=[468888, 459495], inst_net_adj_v_drive=[459495, 468888], inst_net_adj_v_sink=[459495, 468888], x_net=[468888, 7]) 25\n",
      "Learning target: demand\n",
      "Data(x=[495234, 68], y=[510258, 1], net_inst_adj=[510258, 495234], inst_net_adj_v_drive=[495234, 510258], inst_net_adj_v_sink=[495234, 510258], x_net=[510258, 7]) 26\n",
      "Learning target: demand\n",
      "Data(x=[495234, 68], y=[510258, 1], net_inst_adj=[510258, 495234], inst_net_adj_v_drive=[495234, 510258], inst_net_adj_v_sink=[495234, 510258], x_net=[510258, 7]) 27\n",
      "Learning target: demand\n",
      "Data(x=[495234, 68], y=[510258, 1], net_inst_adj=[510258, 495234], inst_net_adj_v_drive=[495234, 510258], inst_net_adj_v_sink=[495234, 510258], x_net=[510258, 7]) 28\n",
      "Learning target: demand\n",
      "Data(x=[495234, 68], y=[510258, 1], net_inst_adj=[510258, 495234], inst_net_adj_v_drive=[495234, 510258], inst_net_adj_v_sink=[495234, 510258], x_net=[510258, 7]) 29\n",
      "Learning target: demand\n",
      "Data(x=[495234, 68], y=[510258, 1], net_inst_adj=[510258, 495234], inst_net_adj_v_drive=[495234, 510258], inst_net_adj_v_sink=[495234, 510258], x_net=[510258, 7]) 30\n",
      "Learning target: demand\n",
      "Data(x=[495234, 68], y=[510258, 1], net_inst_adj=[510258, 495234], inst_net_adj_v_drive=[495234, 510258], inst_net_adj_v_sink=[495234, 510258], x_net=[510258, 7]) 31\n"
     ]
    }
   ],
   "source": [
    "for graph_index in range(6, 32):\n",
    "\n",
    "    dataset = pyg_dataset_sparse('../../../chips/congestion_prediction/data/2023-03-06_data/', graph_index = graph_index, target = 'demand', load_pe = False, num_eigen = 0, load_global_info = False, load_pd = True, vn=False, debug=True)\n",
    "    data = dataset[0]\n",
    "\n",
    "    x = data.x.to(device)\n",
    "    net_inst_adj = data.net_inst_adj.to(device)\n",
    "    x_net = data.x_net.to(device)\n",
    "    y = data.y.to(device).flatten()\n",
    "\n",
    "    net_agg = torch.mm(net_inst_adj, x)\n",
    "\n",
    "    net_all = torch.cat([net_agg, x_net], dim=1)\n",
    "\n",
    "    dictionary = {'instance_features': net_all.numpy()}\n",
    "\n",
    "    f = open(data_dir + '/' + str(graph_index) + '.net_features.pkl', 'wb')\n",
    "    pickle.dump(dictionary, f)\n",
    "    f.close()"
   ]
  },
  {
   "cell_type": "code",
   "execution_count": 38,
   "id": "d934f642",
   "metadata": {},
   "outputs": [],
   "source": [
    "X = net_all.numpy()\n",
    "y = y.numpy()"
   ]
  },
  {
   "cell_type": "code",
   "execution_count": 77,
   "id": "821f4a58",
   "metadata": {},
   "outputs": [
    {
     "name": "stdout",
     "output_type": "stream",
     "text": [
      "Statistics: min = 0.0 , max = 50.75 , mean = 20.269238 , std = 5.558963\n"
     ]
    }
   ],
   "source": [
    "y_min = np.min(y)\n",
    "y_max = np.max(y)\n",
    "y_mean = np.mean(y)\n",
    "y_std = np.std(y)\n",
    "\n",
    "# Normalization\n",
    "y = (y - y_mean) / y_std\n",
    "\n",
    "print('Statistics: min =', y_min, ', max =', y_max, ', mean =', y_mean, ', std =', y_std)"
   ]
  },
  {
   "cell_type": "code",
   "execution_count": 81,
   "id": "5c1428e2",
   "metadata": {},
   "outputs": [],
   "source": [
    "graph_index = 26\n",
    "f = open(str(graph_index) + '.split_sparse.pkl', 'rb')\n",
    "dictionary = pickle.load(f)\n",
    "f.close()"
   ]
  },
  {
   "cell_type": "code",
   "execution_count": 82,
   "id": "2463613f",
   "metadata": {},
   "outputs": [
    {
     "name": "stdout",
     "output_type": "stream",
     "text": [
      "Number of training samples: 306154\n",
      "Number of validation samples: 102051\n",
      "Number of testing samples: 102053\n"
     ]
    }
   ],
   "source": [
    "train_indices = dictionary['train_indices']\n",
    "valid_indices = dictionary['valid_indices']\n",
    "test_indices = dictionary['test_indices']\n",
    "\n",
    "num_train = train_indices.shape[0]\n",
    "num_valid = valid_indices.shape[0]\n",
    "num_test = test_indices.shape[0]\n",
    "\n",
    "print('Number of training samples:', num_train)\n",
    "print('Number of validation samples:', num_valid)\n",
    "print('Number of testing samples:', num_test)\n",
    "\n",
    "X_train = X[train_indices, :]\n",
    "y_train = y[train_indices]\n",
    "\n",
    "X_valid = X[valid_indices, :]\n",
    "y_valid = y[valid_indices]\n",
    "\n",
    "X_test = X[test_indices, :]\n",
    "y_test = y[test_indices]"
   ]
  },
  {
   "cell_type": "code",
   "execution_count": 3,
   "id": "07039b3b",
   "metadata": {},
   "outputs": [],
   "source": [
    "import numpy as np\n",
    "import math\n",
    "import random\n",
    "import pickle\n",
    "import matplotlib.pyplot as plt\n",
    "random.seed(123456789)\n",
    "\n",
    "# For visualization\n",
    "from utils import *\n",
    "\n",
    "# Methods\n",
    "from sklearn.linear_model import LinearRegression\n",
    "from sklearn.linear_model import Ridge\n",
    "from sklearn.svm import SVR\n",
    "import sklearn.gaussian_process as gp\n",
    "\n",
    "# Metrics\n",
    "from sklearn.metrics import mean_absolute_error\n",
    "from sklearn.metrics import mean_squared_error\n",
    "from sklearn.metrics import mean_absolute_percentage_error\n",
    "from sklearn.metrics import r2_score\n",
    "\n",
    "# Mean Absolute Relative Error\n",
    "def mean_absolute_relative_error(y_truth, y_pred):\n",
    "    return np.mean(np.abs(y_truth - y_pred) / np.abs(y_truth))"
   ]
  },
  {
   "cell_type": "code",
   "execution_count": 84,
   "id": "8c3ba1b5",
   "metadata": {},
   "outputs": [],
   "source": [
    "target = 'demand'\n",
    "design_name = \"superblue19\"\n",
    "\n",
    "# Methods we want to try\n",
    "method_names = [\n",
    "    'LR', # Linear Regression\n",
    "    'Ridge', # Ridge Regression\n",
    "    #'Linear-SVM', # Linear Support Vector Machine (i.e. linear kernel)\n",
    "    #'RBF-SVM', # Kernelized SVM with Radial Basis Function kernel\n",
    "    #'Gaussian-Processes' # Gaussian Processes\n",
    "]\n",
    "num_methods = len(method_names)\n",
    "\n",
    "# Results for Mean Average Error (MAE)\n",
    "mae_results = [[] for idx in range(num_methods)]\n",
    "\n",
    "# Results for Root Mean Square Error (RMSE)\n",
    "rmse_results = [[] for idx in range(num_methods)]\n",
    "\n",
    "# Results for Mean Absolute Percentage Error (MAPE)\n",
    "mape_results = [[] for idx in range(num_methods)]\n",
    "\n",
    "# Results for Mean Absolute Relative Error (MARE)\n",
    "mare_results = [[] for idx in range(num_methods)]\n",
    "\n",
    "# Numerical results\n",
    "results = [[] for idx in range(num_methods)]"
   ]
  },
  {
   "cell_type": "code",
   "execution_count": 85,
   "id": "b43203f4",
   "metadata": {
    "scrolled": true
   },
   "outputs": [
    {
     "name": "stderr",
     "output_type": "stream",
     "text": [
      "<ipython-input-83-8b75c7769d28>:25: RuntimeWarning: divide by zero encountered in divide\n",
      "  return np.mean(np.abs(y_truth - y_pred) / np.abs(y_truth))\n"
     ]
    },
    {
     "name": "stdout",
     "output_type": "stream",
     "text": [
      "Done LR\n"
     ]
    },
    {
     "name": "stderr",
     "output_type": "stream",
     "text": [
      "/home/zhishang/anaconda3/lib/python3.8/site-packages/sklearn/linear_model/_ridge.py:147: LinAlgWarning: Ill-conditioned matrix (rcond=8.0175e-12): result may not be accurate.\n",
      "  return linalg.solve(A, Xy, sym_pos=True,\n",
      "<ipython-input-83-8b75c7769d28>:25: RuntimeWarning: divide by zero encountered in divide\n",
      "  return np.mean(np.abs(y_truth - y_pred) / np.abs(y_truth))\n"
     ]
    },
    {
     "name": "stdout",
     "output_type": "stream",
     "text": [
      "Done Ridge\n",
      "Summary ----------------------------------\n",
      "\n",
      " LR :\n",
      "* MAE (normalized targets) = 0.65363604\n",
      "* MAE = 3.6335385\n",
      "* RMSE (normalized targets) = 0.8569850982229519\n",
      "* RMSE = 4.763948299995513\n",
      "* MAPE = 13441170000000.0\n",
      "* MARE = inf\n",
      "\n",
      " Ridge :\n",
      "* MAE (normalized targets) = 0.6619764\n",
      "* MAE = 3.679902\n",
      "* RMSE (normalized targets) = 0.8716913747719818\n",
      "* RMSE = 4.845699944581039\n",
      "* MAPE = 13644667000000.0\n",
      "* MARE = inf\n",
      "------------------------------------------\n",
      "[23.3      17.916666 24.26923  ... 31.131372 19.1875   15.75    ] [21.312561 20.341337 21.03871  ... 21.146011 20.48545  21.149319]\n",
      "Created figure demand_LR_superblue19.png\n",
      "[23.3      17.916666 24.26923  ... 31.131372 19.1875   15.75    ] [21.236277 19.982061 20.72932  ... 20.887123 20.11638  20.892754]\n",
      "Created figure demand_Ridge_superblue19.png\n",
      "Done\n"
     ]
    },
    {
     "data": {
      "text/plain": [
       "<Figure size 432x432 with 0 Axes>"
      ]
     },
     "metadata": {},
     "output_type": "display_data"
    },
    {
     "data": {
      "text/plain": [
       "<Figure size 432x432 with 0 Axes>"
      ]
     },
     "metadata": {},
     "output_type": "display_data"
    }
   ],
   "source": [
    "for idx in range(num_methods):\n",
    "    method_name = method_names[idx]\n",
    "\n",
    "    # Create the model\n",
    "    if method_name == 'LR':\n",
    "        model = LinearRegression()\n",
    "    elif method_name == 'Ridge':\n",
    "        # You will need to search for the optimal hyper-parameter\n",
    "        model = Ridge(alpha = 10.0)\n",
    "    elif method_name == 'Linear-SVM':\n",
    "        # You will need to search for the optimal hyper-parameters\n",
    "        model = SVR(kernel = 'linear', C = 10.0, epsilon = 2)\n",
    "    elif method_name == 'RBF-SVM':\n",
    "        # You will need to search for the optimal hyper-parameters\n",
    "        model = SVR(kernel = 'rbf', C = 10.0)\n",
    "    elif method_name == 'Gaussian-Processes':\n",
    "        # You will need to search for the optimal hyper-parameter\n",
    "        kernel = gp.kernels.ConstantKernel(1.0, (1e-1, 1e3)) * gp.kernels.RBF(1.0, (1e-3, 1e3))\n",
    "        model = gp.GaussianProcessRegressor(kernel = kernel, alpha = 0.01, normalize_y = True)\n",
    "    else:\n",
    "        print('Unsupported method!')\n",
    "        assert False\n",
    "\n",
    "    # Fit the model\n",
    "    model.fit(X_train, y_train)\n",
    "\n",
    "    # Make prediction\n",
    "    y_hat = model.predict(X_test)\n",
    "\n",
    "    # Original scale\n",
    "    original_y_test = y_test * y_std + y_mean\n",
    "    original_y_hat = y_hat * y_std + y_mean\n",
    "\n",
    "    # Evaluate\n",
    "    mae = mean_absolute_error(y_test, y_hat)\n",
    "    mse = mean_squared_error(y_test, y_hat)\n",
    "    rmse = math.sqrt(mse)\n",
    "    mape = mean_absolute_percentage_error(original_y_test, original_y_hat)\n",
    "    mare = mean_absolute_relative_error(original_y_test, original_y_hat)\n",
    "\n",
    "    # Save the result\n",
    "    mae_results[idx].append(mae)\n",
    "    rmse_results[idx].append(rmse)\n",
    "    mape_results[idx].append(mape)\n",
    "    mare_results[idx].append(mare)\n",
    "\n",
    "    # Save numerical prediction\n",
    "    dictionary = {\n",
    "        'predict': original_y_hat,\n",
    "        'truth': original_y_test\n",
    "    }\n",
    "    results[idx].append(dictionary)\n",
    "\n",
    "    print('Done', method_name)\n",
    "\n",
    "# Summary\n",
    "print('Summary ----------------------------------')\n",
    "for idx in range(num_methods):\n",
    "    method_name = method_names[idx]\n",
    "    print('\\n', method_name, ':')\n",
    "\n",
    "    array = np.array(mae_results[idx]) # Remember to scale back to the original scale\n",
    "    mae_mean = np.mean(array)\n",
    "    print('* MAE (normalized targets) =', mae_mean)\n",
    "\n",
    "    array = np.array(mae_results[idx]) * y_std # Original scale\n",
    "    mae_mean = np.mean(array)\n",
    "    print('* MAE =', mae_mean)\n",
    "\n",
    "    array = np.array(rmse_results[idx]) # Remember to scale back to the original scale\n",
    "    rmse_mean = np.mean(array)\n",
    "    print('* RMSE (normalized targets) =', rmse_mean)\n",
    "\n",
    "    array = np.array(rmse_results[idx]) * y_std # Original scale\n",
    "    rmse_mean = np.mean(array)\n",
    "    print('* RMSE =', rmse_mean)\n",
    "\n",
    "    array = np.array(mape_results[idx]) # Average relative error\n",
    "    mape_mean = np.mean(array)\n",
    "    print('* MAPE =', mape_mean)\n",
    "\n",
    "    array = np.array(mare_results[idx]) # Average relative error\n",
    "    mare_mean = np.mean(array)\n",
    "    print('* MARE =', mare_mean)\n",
    "\n",
    "# Visualization\n",
    "print('------------------------------------------')\n",
    "for idx in range(num_methods):\n",
    "    method_name = method_names[idx]\n",
    "    \n",
    "    dictionary = results[idx][0]\n",
    "    predict = dictionary['predict']\n",
    "    truth = dictionary['truth']\n",
    "\n",
    "    output_name = target + '_' + method_name + '_' + design_name + '.png'\n",
    "    plot_figure(truth, predict, method_name, design_name, output_name)\n",
    "    print('Created figure', output_name)\n",
    "\n",
    "print('Done')"
   ]
  },
  {
   "cell_type": "code",
   "execution_count": 21,
   "id": "a555674a",
   "metadata": {},
   "outputs": [],
   "source": [
    "y = []\n",
    "\n",
    "for idx in range(32):\n",
    "    file_name = '../../data/2023-03-06_data/' + str(idx) + '.net_demand_capacity.pkl'\n",
    "    f = open(file_name, 'rb')\n",
    "    dictionary = pickle.load(f)\n",
    "    f.close()\n",
    "\n",
    "    y += dictionary['demand']"
   ]
  },
  {
   "cell_type": "code",
   "execution_count": 26,
   "id": "ec195b59",
   "metadata": {},
   "outputs": [
    {
     "data": {
      "image/png": "[encoded data removed]",
      "text/plain": [
       "<Figure size 432x288 with 1 Axes>"
      ]
     },
     "metadata": {
      "needs_background": "light"
     },
     "output_type": "display_data"
    }
   ],
   "source": [
    "n, bins, patches = plt.hist(y, weights=np.ones(len(y)) / len(y), range=(0, 200))\n",
    "plt.title(f\"Demand Distribution All\")\n",
    "plt.xlabel(\"Demand\")\n",
    "plt.ylabel(\"Percentage\")\n",
    "plt.show()"
   ]
  },
  {
   "cell_type": "code",
   "execution_count": 23,
   "id": "4d0d8ed4",
   "metadata": {},
   "outputs": [
    {
     "data": {
      "text/plain": [
       "30.74990612443691"
      ]
     },
     "execution_count": 23,
     "metadata": {},
     "output_type": "execute_result"
    }
   ],
   "source": [
    "np.mean(y)"
   ]
  },
  {
   "cell_type": "code",
   "execution_count": 24,
   "id": "9595e71b",
   "metadata": {},
   "outputs": [
    {
     "data": {
      "text/plain": [
       "23.863955588120096"
      ]
     },
     "execution_count": 24,
     "metadata": {},
     "output_type": "execute_result"
    }
   ],
   "source": [
    "np.std(y)"
   ]
  },
  {
   "cell_type": "code",
   "execution_count": 25,
   "id": "1498f3af",
   "metadata": {},
   "outputs": [
    {
     "data": {
      "text/plain": [
       "(1498.3333333333333, 0.0)"
      ]
     },
     "execution_count": 25,
     "metadata": {},
     "output_type": "execute_result"
    }
   ],
   "source": [
    "np.max(y), np.min(y)"
   ]
  },
  {
   "cell_type": "code",
   "execution_count": 4,
   "id": "90263a43",
   "metadata": {},
   "outputs": [],
   "source": [
    "edge_encoder = nn.Sequential(nn.Linear(1, 64), nn.ReLU())"
   ]
  },
  {
   "cell_type": "code",
   "execution_count": 5,
   "id": "7c021767",
   "metadata": {},
   "outputs": [
    {
     "data": {
      "text/plain": [
       "Sequential(\n",
       "  (0): Linear(in_features=1, out_features=64, bias=True)\n",
       "  (1): ReLU()\n",
       ")"
      ]
     },
     "execution_count": 5,
     "metadata": {},
     "output_type": "execute_result"
    }
   ],
   "source": [
    "edge_encoder()"
   ]
  },
  {
   "cell_type": "code",
   "execution_count": 29,
   "id": "3553ec3a",
   "metadata": {},
   "outputs": [],
   "source": [
    "edge_index = data.net_inst_adj.coalesce().indices()"
   ]
  },
  {
   "cell_type": "code",
   "execution_count": 30,
   "id": "bd5dfead",
   "metadata": {},
   "outputs": [
    {
     "data": {
      "text/plain": [
       "tensor([[     0,      0,      0,  ..., 510256, 510257, 510257],\n",
       "        [252561, 252562, 252563,  ..., 495107, 397455, 495108]])"
      ]
     },
     "execution_count": 30,
     "metadata": {},
     "output_type": "execute_result"
    }
   ],
   "source": [
    "edge_index "
   ]
  },
  {
   "cell_type": "code",
   "execution_count": null,
   "id": "f12c0546",
   "metadata": {},
   "outputs": [],
   "source": []
  }
 ],
 "metadata": {
  "kernelspec": {
   "display_name": "Python 3",
   "language": "python",
   "name": "python3"
  },
  "language_info": {
   "codemirror_mode": {
    "name": "ipython",
    "version": 3
   },
   "file_extension": ".py",
   "mimetype": "text/x-python",
   "name": "python",
   "nbconvert_exporter": "python",
   "pygments_lexer": "ipython3",
   "version": "3.8.8"
  }
 },
 "nbformat": 4,
 "nbformat_minor": 5
}
